{
 "cells": [
  {
   "cell_type": "code",
   "execution_count": null,
   "id": "16172382-ba5f-4051-bbe7-93b32d958e09",
   "metadata": {},
   "outputs": [],
   "source": [
    "import os\n",
    "import torch\n",
    "from transformers import AutoTokenizer, AutoModelForCausalLM\n",
    "\n",
    "from datasets import load_from_disk\n",
    "# from peft import PeftModel\n",
    "from utils import *\n",
    "\n",
    "os.environ['CUDA_VISIBLE_DEVICES'] = \"5,6\""
   ]
  },
  {
   "cell_type": "code",
   "execution_count": 2,
   "id": "2fb1dc20",
   "metadata": {},
   "outputs": [
    {
     "name": "stderr",
     "output_type": "stream",
     "text": [
      "Loading checkpoint shards: 100%|██████████| 2/2 [00:03<00:00,  1.95s/it]\n"
     ]
    }
   ],
   "source": [
    "base_model = AutoModelForCausalLM.from_pretrained(\n",
    "    'meta-llama/Llama-2-7b-chat-hf',\n",
    "    trust_remote_code=True,\n",
    "    device_map=\"auto\",\n",
    "    torch_dtype=torch.float16,   \n",
    ")\n",
    "base_model.model_parellal = True"
   ]
  },
  {
   "cell_type": "code",
   "execution_count": 3,
   "id": "213a792c-fe67-49be-a340-98e18bbc50eb",
   "metadata": {},
   "outputs": [],
   "source": [
    "from peft import PeftModel\n",
    "\n",
    "model = PeftModel.from_pretrained(base_model, 'LUMOS/lumos-forecaster_dow30_llama2-7b_lora')\n",
    "model = model.eval()"
   ]
  },
  {
   "cell_type": "code",
   "execution_count": 4,
   "id": "8cf0220b-9173-4d1c-a4a4-119bcda71cfe",
   "metadata": {},
   "outputs": [],
   "source": [
    "tokenizer = AutoTokenizer.from_pretrained('meta-llama/Llama-2-7b-chat-hf')\n",
    "tokenizer.padding_side = \"right\"\n",
    "tokenizer.pad_token_id = tokenizer.eos_token_id"
   ]
  },
  {
   "cell_type": "code",
   "execution_count": 5,
   "id": "d915b597-258c-4e8b-9f8f-7fc0e2d8bd75",
   "metadata": {},
   "outputs": [],
   "source": [
    "test_dataset = load_from_disk('./data/lumos-forecaster-crypto-20230131-20231231-1-4-08/')['test']"
   ]
  },
  {
   "cell_type": "code",
   "execution_count": 6,
   "id": "fe9b99e6-f4be-4dcc-820a-ccb95d819904",
   "metadata": {},
   "outputs": [],
   "source": [
    "def test_demo(model, tokenizer, prompt):\n",
    "\n",
    "    inputs = tokenizer(\n",
    "        prompt, return_tensors='pt',\n",
    "        padding=False, max_length=4096\n",
    "    )\n",
    "    inputs = {key: value.to(model.device) for key, value in inputs.items()}\n",
    "        \n",
    "    res = model.generate(\n",
    "        **inputs, max_length=4096, do_sample=True,\n",
    "        eos_token_id=tokenizer.eos_token_id,\n",
    "        use_cache=True\n",
    "    )\n",
    "    output = tokenizer.decode(res[0], skip_special_tokens=True)\n",
    "    return output    \n",
    "    # return res"
   ]
  },
  {
   "cell_type": "code",
   "execution_count": null,
   "id": "8c0c554b-ec30-47e3-af01-5cede7cdbbe4",
   "metadata": {
    "tags": []
   },
   "outputs": [],
   "source": [
    "answers, gts = [], []\n",
    "\n",
    "for i in range(len(test_dataset)):\n",
    "    prompt = test_dataset[i]['prompt']\n",
    "    output = test_demo(model, tokenizer, prompt)\n",
    "    answer = re.sub(r'.*\\[/INST\\]\\s*', '', output, flags=re.DOTALL)\n",
    "    gt = test_dataset[i]['answer']\n",
    "    print('\\n------- Prompt ------\\n')\n",
    "    print(prompt)\n",
    "    print('\\n------- LLaMA2 Finetuned ------\\n')\n",
    "    print(answer)\n",
    "    print('\\n------- GPT4 Groundtruth ------\\n')\n",
    "    print(gt)\n",
    "    print('\\n===============\\n')\n",
    "    answers.append(answer)\n",
    "    gts.append(gt)"
   ]
  },
  {
   "cell_type": "code",
   "execution_count": 9,
   "id": "931acd45-6f0b-436e-b40e-4a287c331148",
   "metadata": {},
   "outputs": [
    {
     "data": {
      "text/plain": [
       "\"[Positive Developments]:\\n1. American Express Co has been recognized as part of Berkshire Hathaway’s holdings, adding a level of investor faith due to Warren Buffet's renowned investment strategies.\\n2. The company's CEO, Stephen J. Squeri, announced his participation in the Bernstein 39th Annual Strategic Decisions Conference, which can potentially bring new strategic insights and boost investor confidence in the company's management. \\n3. The stock has experienced a recent rise, hinting at a bullish momentum that could potentially continue.\\n\\n[Potential Concerns]:\\n1. Debt ceiling talks might potentially impact stock performance, if negotiations lead to stock market volatility.\\n2. No basic financials reported in the past week, which makes it challenging to effectively assess the company's current performance.\\n\\n[Prediction & Analysis]:\\nPrediction: Up by 2-3%\\nAnalysis: Based on the positive and negative factors analyzed above, a prediction for a slight uptrend in the American Express stock's performance for the next week can be made. \\n\\nThis prediction is mainly influenced by the overall current momentum in the company's stock price and its inclusion in Berkshire Hathaway’s portfolio, which typically boosts investor confidence due to Mr. Buffet's investment reputation. The anticipated strategic insights from the CEO's participation in the Bernstein Conference also adds to the potential for a positive influence on the stock's performance.\\n\\nHowever, these bullish factors may be tempered by the upcoming debt ceiling talks that could potentially impact overall market stability and influence AXP stock performance. Therefore, a conservative estimate of a 2-3% uptick for the week is projected.\""
      ]
     },
     "execution_count": 9,
     "metadata": {},
     "output_type": "execute_result"
    }
   ],
   "source": [
    "gts[0]"
   ]
  },
  {
   "cell_type": "code",
   "execution_count": 10,
   "id": "85aeac59-c373-470e-9619-403515f707a6",
   "metadata": {},
   "outputs": [
    {
     "data": {
      "text/plain": [
       "\"[Positive Developments]:\\n1. The stock price of American Express Co. has been steadily rising in the past weeks, indicating an increasing demand for the company's stock.\\n2. The company's Chairman and CEO, Stephen J. Squeri, is scheduled to participate in the Bernstein 39th Annual Strategic Decisions Conference, which could lead to increased investor interest and confidence in the company's strategy and financial performance.\\n3. The company's U.S. Consumer Services segment is expected to see increased revenue due to higher loan volumes, which could indicate a strong financial performance.\\n\\n[Potential Concerns]:\\n1. The company did not report any basic financials in the last week, which makes it difficult to assess the company's financial health.\\n2. The company's stock price is still underperforming the market, indicating a lack of investor confidence.\\n3. The company's stock price has been rising gradually but at a relatively slow pace, which could indicate a lack of significant upward momentum.\\n\\n[Prediction & Analysis]:\\nPrediction: Down by 2-3%\\nAnalysis: Despite the positive developments, the potential concerns for American Express Co. outweigh the positive factors. The lack of basic financials and the underperformance of the stock relative to the market indicate that the company may face some financial challenges. Additionally, the slow and steady rise of the stock price could indicate a lack of significant upward momentum, which could lead to a decrease in investor confidence.\\n\\nGiven these factors, it is likely that the stock price of American Express Co. will decrease by 2-3% in the upcoming week. However, it is important to note that this prediction is based solely on the information available until May 21, 2023, and may change if new information becomes available.\""
      ]
     },
     "execution_count": 10,
     "metadata": {},
     "output_type": "execute_result"
    }
   ],
   "source": [
    "answers[0]"
   ]
  },
  {
   "cell_type": "code",
   "execution_count": 11,
   "id": "d297b2e8-dcf0-4b2c-880a-43ecc0055bb1",
   "metadata": {},
   "outputs": [
    {
     "name": "stdout",
     "output_type": "stream",
     "text": [
      "\n",
      "Binary Accuracy: 0.29  |  Mean Square Error: 4.64\n",
      "\n",
      "Rouge Score of Positive Developments: {'rouge1': 0.4202282600542612, 'rouge2': 0.14931479501035597, 'rougeL': 0.2578559230218219}\n",
      "\n",
      "Rouge Score of Potential Concerns: {'rouge1': 0.40652271907403026, 'rouge2': 0.13952370414379708, 'rougeL': 0.2513779865861211}\n",
      "\n",
      "Rouge Score of Summary Analysis: {'rouge1': 0.4178582895911193, 'rouge2': 0.11082203617356211, 'rougeL': 0.2031596404349372}\n"
     ]
    },
    {
     "data": {
      "text/plain": [
       "{'valid_count': 14,\n",
       " 'bin_acc': 0.2857142857142857,\n",
       " 'mse': 4.642857142857143,\n",
       " 'pros_rouge_scores': {'rouge1': 0.4202282600542612,\n",
       "  'rouge2': 0.14931479501035597,\n",
       "  'rougeL': 0.2578559230218219},\n",
       " 'cons_rouge_scores': {'rouge1': 0.40652271907403026,\n",
       "  'rouge2': 0.13952370414379708,\n",
       "  'rougeL': 0.2513779865861211},\n",
       " 'anal_rouge_scores': {'rouge1': 0.4178582895911193,\n",
       "  'rouge2': 0.11082203617356211,\n",
       "  'rougeL': 0.2031596404349372}}"
      ]
     },
     "execution_count": 11,
     "metadata": {},
     "output_type": "execute_result"
    }
   ],
   "source": [
    "calc_metrics(answers, gts)"
   ]
  },
  {
   "cell_type": "code",
   "execution_count": 14,
   "id": "e4f87780",
   "metadata": {},
   "outputs": [
    {
     "name": "stdout",
     "output_type": "stream",
     "text": [
      "[Positive Developments]:\n",
      "1. The stock price of American Express Co. has been steadily rising in the past weeks, indicating an increasing demand for the company's stock.\n",
      "2. The company's Chairman and CEO, Stephen J. Squeri, is scheduled to participate in the Bernstein 39th Annual Strategic Decisions Conference, which could lead to increased investor interest and confidence in the company's strategy and financial performance.\n",
      "3. The company's U.S. Consumer Services segment is expected to see increased revenue due to higher loan volumes, which could indicate a strong financial performance.\n",
      "\n",
      "[Potential Concerns]:\n",
      "1. The company did not report any basic financials in the last week, which makes it difficult to assess the company's financial health.\n",
      "2. The company's stock price is still underperforming the market, indicating a lack of investor confidence.\n",
      "3. The company's stock price has been rising gradually but at a relatively slow pace, which could indicate a lack of significant upward momentum.\n",
      "\n",
      "[Prediction & Analysis]:\n",
      "Prediction: Down by 2-3%\n",
      "Analysis: Despite the positive developments, the potential concerns for American Express Co. outweigh the positive factors. The lack of basic financials and the underperformance of the stock relative to the market indicate that the company may face some financial challenges. Additionally, the slow and steady rise of the stock price could indicate a lack of significant upward momentum, which could lead to a decrease in investor confidence.\n",
      "\n",
      "Given these factors, it is likely that the stock price of American Express Co. will decrease by 2-3% in the upcoming week. However, it is important to note that this prediction is based solely on the information available until May 21, 2023, and may change if new information becomes available.\n"
     ]
    }
   ],
   "source": [
    "print(answers[0])"
   ]
  }
 ],
 "metadata": {
  "kernelspec": {
   "display_name": "fingpt-forecaster",
   "language": "python",
   "name": "python3"
  },
  "language_info": {
   "codemirror_mode": {
    "name": "ipython",
    "version": 3
   },
   "file_extension": ".py",
   "mimetype": "text/x-python",
   "name": "python",
   "nbconvert_exporter": "python",
   "pygments_lexer": "ipython3",
   "version": "3.10.13"
  }
 },
 "nbformat": 4,
 "nbformat_minor": 5
}
